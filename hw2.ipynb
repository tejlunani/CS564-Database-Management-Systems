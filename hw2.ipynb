{
 "cells": [
  {
   "cell_type": "markdown",
   "metadata": {},
   "source": [
    "# 1. Polyhedron modeling"
   ]
  },
  {
   "cell_type": "markdown",
   "metadata": {},
   "source": [
    "### Part a"
   ]
  },
  {
   "cell_type": "raw",
   "metadata": {},
   "source": [
    "A = [-4  0  0\n",
    "      4  0  0\n",
    "      0 -4  0\n",
    "      0  4  0\n",
    "      0  0 -4\n",
    "      0  0  4]\n",
    "\n",
    "b = (4, 4, 4, 4, 4, 4)\n",
    "\n",
    "Ax <= b"
   ]
  },
  {
   "cell_type": "markdown",
   "metadata": {},
   "source": [
    "### Part b"
   ]
  },
  {
   "cell_type": "raw",
   "metadata": {},
   "source": [
    "A = [-1 -1 -1\n",
    "     -1 -1  1\n",
    "     -1  1  1\n",
    "     -1  1 -1\n",
    "      1 -1 -1\n",
    "      1  1 -1\n",
    "      1 -1  1\n",
    "      1  1  1]\n",
    "      \n",
    "b = (1, 1, 1, 1, 1, 1, 1, 1)\n",
    "\n",
    "Ax <= b"
   ]
  },
  {
   "cell_type": "markdown",
   "metadata": {},
   "source": [
    "# 2. Standard form with equality constraints"
   ]
  },
  {
   "cell_type": "code",
   "execution_count": 26,
   "metadata": {},
   "outputs": [
    {
     "name": "stdout",
     "output_type": "stream",
     "text": [
      "[8.57143, 0.428571, -1.0, 2.0, 0.0]\n",
      "25.28571428571429\n"
     ]
    }
   ],
   "source": [
    "using JuMP, Clp\n",
    "p = Model(solver = ClpSolver())\n",
    "\n",
    "@variable(p, z[1:5])\n",
    "@expression(p, s1, -z[1] + 6z[2] - z[3] + z[4])\n",
    "@constraint(p, s1 >= -3)\n",
    "@constraint(p, 7z[2] + z[4] == 5)\n",
    "@constraint(p, z[3] + z[4] <= 2)\n",
    "@constraint(p, -1 <= z[2] <= 2)\n",
    "@constraint(p, -1 <= z[3] <= 5)\n",
    "@constraint(p, -2 <= z[4] <= 2)\n",
    "\n",
    "@objective(p, Max, 3z[1] - z[2])\n",
    "\n",
    "solve(p)\n",
    "println(getvalue(z))\n",
    "println(getobjectivevalue(p))"
   ]
  },
  {
   "cell_type": "markdown",
   "metadata": {},
   "source": [
    "# 3. Alloy blending"
   ]
  },
  {
   "cell_type": "code",
   "execution_count": 24,
   "metadata": {
    "scrolled": true
   },
   "outputs": [],
   "source": [
    "materials = [:ironalloy1, :ironalloy2, :ironalloy3, :copper1, :copper2, :aluminum1, :aluminum2]\n",
    "chemicals = [:c, :cu, :mn]\n",
    "cost = Dict( zip( materials, [200, 250, 150, 220, 240, 200, 165]))\n",
    "availibility = Dict( zip( materials, [400, 300, 600, 500, 200, 300, 250]))\n",
    "\n",
    "using NamedArrays\n",
    "\n",
    "compound_mat = [ .025 0.00 .013\n",
    "                 .030 0.00 .008\n",
    "                 0.00 .003 0.00\n",
    "                 0.00 .900 0.00\n",
    "                 0.00 .960 .040\n",
    "                 0.00 .004 .012\n",
    "                 0.00 .006 0.00 ]\n",
    "compound = NamedArray( compound_mat, (materials,chemicals), (\"material\", \"chemical\"))\n",
    ";"
   ]
  },
  {
   "cell_type": "code",
   "execution_count": 38,
   "metadata": {},
   "outputs": [
    {
     "name": "stdout",
     "output_type": "stream",
     "text": [
      "The ideal composition for 500 tons of steel is as follows\n",
      "tons: 1 dimensions:\n",
      "[ironalloy1] = 400.0\n",
      "[ironalloy2] = 0.0\n",
      "[ironalloy3] = 39.77630199231039\n",
      "[   copper1] = 0.0\n",
      "[   copper2] = 2.761272282418735\n",
      "[ aluminum1] = 57.462425725270876\n",
      "[ aluminum2] = 0.0\n",
      "\n",
      "The total cost is: $98121.63579168124\n"
     ]
    }
   ],
   "source": [
    "using JuMP, Clp\n",
    "m = Model(solver = ClpSolver())\n",
    "\n",
    "@variable(m, tons[materials] >= 0)\n",
    "\n",
    "#availability constraint for each material\n",
    "@constraint(m, avail[s in materials], tons[s] <= availibility[s] )\n",
    "\n",
    "#total tons produced constraint\n",
    "@constraint(m, sum( tons[s] for s in materials) == 500)\n",
    "\n",
    "#chemical constraint\n",
    "@constraint(m, 10 <= sum( tons[s]* compound[s, :c] for s in materials) <= 15 )\n",
    "@constraint(m, 2 <= sum( tons[s]* compound[s, :cu] for s in materials) <= 3 )\n",
    "@constraint(m, 6 <= sum( tons[s]* compound[s, :mn] for s in materials) <= 8.25 )\n",
    "\n",
    "#total cost minimization setup\n",
    "@expression(m, total_cost, sum( tons[s]*cost[s] for s in materials))\n",
    "@objective(m, Min, total_cost)\n",
    "\n",
    "\n",
    "solve(m)\n",
    "println(\"The ideal composition for 500 tons of steel is as follows\")\n",
    "println(getvalue(tons))\n",
    "println(\"\\nThe total cost is: \\$\", getvalue(total_cost))"
   ]
  },
  {
   "cell_type": "markdown",
   "metadata": {},
   "source": [
    "# 4. Stigler's diet"
   ]
  },
  {
   "cell_type": "code",
   "execution_count": 2,
   "metadata": {},
   "outputs": [
    {
     "name": "stderr",
     "output_type": "stream",
     "text": [
      "\u001b[1m\u001b[36mINFO: \u001b[39m\u001b[22m\u001b[36mRecompiling stale cache file /Users/Tej/.julia/lib/v0.6/Polynomials.ji for module Polynomials.\n",
      "\u001b[39m\u001b[1m\u001b[36mINFO: \u001b[39m\u001b[22m\u001b[36mRecompiling stale cache file /Users/Tej/.julia/lib/v0.6/NamedArrays.ji for module NamedArrays.\n",
      "\u001b[39m"
     ]
    }
   ],
   "source": [
    "# STARTER CODE FOR STIGLER'S DIET PROBLEM\n",
    "using NamedArrays\n",
    "\n",
    "# import Stigler's data set\n",
    "raw = readcsv(\"stigler.csv\")\n",
    "(m,n) = size(raw)\n",
    "\n",
    "n_nutrients = 2:n      # columns containing nutrients\n",
    "n_foods = 3:m          # rows containing food names\n",
    "\n",
    "nutrients = raw[1,n_nutrients][:]   # the list of nutrients (convert to 1-D array)\n",
    "foods = raw[n_foods,1][:]           # the list of foods (convert to 1-D array)\n",
    "\n",
    "# lower[i] is the minimum daily requirement of nutrient i.\n",
    "lower = Dict( zip(nutrients,raw[2,n_nutrients]) )\n",
    "\n",
    "# data[f,i] is the amount of nutrient i contained in food f.\n",
    "data = NamedArray( raw[n_foods,n_nutrients], (foods,nutrients), (\"foods\",\"nutrients\") );"
   ]
  },
  {
   "cell_type": "code",
   "execution_count": 11,
   "metadata": {},
   "outputs": [
    {
     "name": "stdout",
     "output_type": "stream",
     "text": [
      "Wheat Flour (Enriched) = 0.02951906167648827\n",
      "Liver (Beef) = 0.0018925572907052643\n",
      "Cabbage = 0.011214435246144865\n",
      "Spinach = 0.005007660466725203\n",
      "Navy Beans, Dried = 0.061028563526693246\n",
      "\n",
      "The total cost for the year is: $39.66173154546625\n"
     ]
    }
   ],
   "source": [
    "using JuMP, Clp\n",
    "b = Model(solver = ClpSolver())\n",
    "\n",
    "@variable(b, amnt[foods] >= 0)\n",
    "\n",
    "@constraint(b, constr[i in nutrients], sum(amnt[s] * data[s,i] for s in foods) >= lower[i])\n",
    "\n",
    "@objective(b, Min, sum( amnt[s] for s in foods))\n",
    "\n",
    "solve(b)\n",
    "\n",
    "#printing\n",
    "for i in foods\n",
    "    if (getvalue(amnt[i]) > 0)\n",
    "        println(i, \" = \", getvalue(amnt[i]))\n",
    "    end\n",
    "end\n",
    "#println(getvalue(amnt))\n",
    "println(\"\\nThe total cost for the year is: \\$\", getobjectivevalue(b) * 365)"
   ]
  },
  {
   "cell_type": "markdown",
   "metadata": {},
   "source": [
    "### Part a"
   ]
  },
  {
   "cell_type": "markdown",
   "metadata": {},
   "source": [
    "I found the optimal diet to have a total cost lower than that of Stigler (39.67 < 39.93)\n",
    "\n",
    "The foods that make up the diet are Dried Navy Beans, Spinach, Cabbage, Liver (Beef), and Wheat Flour (Enriched)"
   ]
  },
  {
   "cell_type": "code",
   "execution_count": 6,
   "metadata": {},
   "outputs": [],
   "source": [
    "# STARTER CODE FOR STIGLER'S DIET PROBLEM\n",
    "using NamedArrays\n",
    "\n",
    "# import Stigler's data set\n",
    "raw = readcsv(\"stigler_veg.csv\")\n",
    "(m,n) = size(raw)\n",
    "\n",
    "n_nutrients = 2:n      # columns containing nutrients\n",
    "n_foods = 3:m          # rows containing food names\n",
    "\n",
    "nutrients = raw[1,n_nutrients][:]   # the list of nutrients (convert to 1-D array)\n",
    "foods = raw[n_foods,1][:]           # the list of foods (convert to 1-D array)\n",
    "\n",
    "# lower[i] is the minimum daily requirement of nutrient i.\n",
    "lower = Dict( zip(nutrients,raw[2,n_nutrients]) )\n",
    "\n",
    "# data[f,i] is the amount of nutrient i contained in food f.\n",
    "data = NamedArray( raw[n_foods,n_nutrients], (foods,nutrients), (\"foods\",\"nutrients\") );"
   ]
  },
  {
   "cell_type": "code",
   "execution_count": 7,
   "metadata": {},
   "outputs": [
    {
     "name": "stdout",
     "output_type": "stream",
     "text": [
      "amnt: 1 dimensions:\n",
      "[ Wheat Flour (Enriched)] = 0.03545558140888771\n",
      "[               Macaroni] = 0.0\n",
      "[Wheat Cereal (Enriched)] = 0.0\n",
      "[            Corn Flakes] = 0.0\n",
      "[              Corn Meal] = 0.0\n",
      "[           Hominy Grits] = 0.0\n",
      "[                   Rice] = 0.0\n",
      "[            Rolled Oats] = 0.0\n",
      "[ White Bread (Enriched)] = 0.0\n",
      "[      Whole Wheat Bread] = 0.0\n",
      "[              Rye Bread] = 0.0\n",
      "[             Pound Cake] = 0.0\n",
      "[          Soda Crackers] = 0.0\n",
      "[                   Milk] = 0.0\n",
      "[  Evaporated Milk (can)] = 0.008591461668763544\n",
      "[                 Butter] = 0.0\n",
      "[          Oleomargarine] = 0.0\n",
      "[                   Eggs] = 0.0\n",
      "[       Cheese (Cheddar)] = 0.0\n",
      "[                  Cream] = 0.0\n",
      "[          Peanut Butter] = 0.0\n",
      "[             Mayonnaise] = 0.0\n",
      "[                 Crisco] = 0.0\n",
      "[                 Apples] = 0.0\n",
      "[                Bananas] = 0.0\n",
      "[                 Lemons] = 0.0\n",
      "[                Oranges] = 0.0\n",
      "[            Green Beans] = 0.0\n",
      "[                Cabbage] = 0.011249517312443502\n",
      "[                Carrots] = 0.0\n",
      "[                 Celery] = 0.0\n",
      "[                Lettuce] = 0.0\n",
      "[                 Onions] = 0.0\n",
      "[               Potatoes] = 0.0\n",
      "[                Spinach] = 0.005112832613199646\n",
      "[         Sweet Potatoes] = 0.0\n",
      "[          Peaches (can)] = 0.0\n",
      "[            Pears (can)] = 0.0\n",
      "[        Pineapple (can)] = 0.0\n",
      "[        Asparagus (can)] = 0.0\n",
      "[      Green Beans (can)] = 0.0\n",
      "[             Corn (can)] = 0.0\n",
      "[             Peas (can)] = 0.0\n",
      "[         Tomatoes (can)] = 0.0\n",
      "[      Tomato Soup (can)] = 0.0\n",
      "[         Peaches, Dried] = 0.0\n",
      "[          Prunes, Dried] = 0.0\n",
      "[         Raisins, Dried] = 0.0\n",
      "[            Peas, Dried] = 0.0\n",
      "[      Lima Beans, Dried] = 0.0\n",
      "[      Navy Beans, Dried] = 0.04862804357316852\n",
      "[                 Coffee] = 0.0\n",
      "[                    Tea] = 0.0\n",
      "[                  Cocoa] = 0.0\n",
      "[              Chocolate] = 0.0\n",
      "[                  Sugar] = 0.0\n",
      "[             Corn Syrup] = 0.0\n",
      "[               Molasses] = 0.0\n",
      "[   Strawberry Preserves] = 0.0\n",
      "\n",
      "The total cost for the year [ONLY VEGETARIAN FOOD] is: $39.79866435040896\n"
     ]
    }
   ],
   "source": [
    "using JuMP, Clp\n",
    "b = Model(solver = ClpSolver())\n",
    "\n",
    "@variable(b, amnt[foods] >= 0)\n",
    "\n",
    "@constraint(b, constr[i in nutrients], sum(amnt[s] * data[s,i] for s in foods) >= lower[i])\n",
    "\n",
    "@objective(b, Min, sum( amnt[s] for s in foods))\n",
    "\n",
    "solve(b)\n",
    "println(getvalue(amnt))\n",
    "println(\"\\nThe total cost for the year [ONLY VEGETARIAN FOOD] is: \\$\", getobjectivevalue(b) * 365)"
   ]
  },
  {
   "cell_type": "markdown",
   "metadata": {},
   "source": [
    "### Part b"
   ]
  },
  {
   "cell_type": "markdown",
   "metadata": {},
   "source": [
    "The annual cost for the vegetarian diet is higher than that of the normal diet (39.67 < 39.80).\n",
    "It contains Dried Navy Beans, Spinach, Cabbage, Evaporated Milk (can), and Wheat Flour (Enriched)\n",
    "\n",
    "The list of foods is the same with one change, 'Liver (Beef)' is replaced with 'Evaporated Milk (can)'"
   ]
  }
 ],
 "metadata": {
  "kernelspec": {
   "display_name": "Julia 0.6.2",
   "language": "julia",
   "name": "julia-0.6"
  },
  "language_info": {
   "file_extension": ".jl",
   "mimetype": "application/julia",
   "name": "julia",
   "version": "0.6.2"
  }
 },
 "nbformat": 4,
 "nbformat_minor": 2
}
